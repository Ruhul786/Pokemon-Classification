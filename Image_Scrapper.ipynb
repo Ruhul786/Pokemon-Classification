{
  "nbformat": 4,
  "nbformat_minor": 0,
  "metadata": {
    "colab": {
      "provenance": []
    },
    "kernelspec": {
      "name": "python3",
      "display_name": "Python 3"
    },
    "language_info": {
      "name": "python"
    }
  },
  "cells": [
    {
      "cell_type": "code",
      "source": [
        "from google.colab import drive\n",
        "drive.mount('/content/drive')"
      ],
      "metadata": {
        "colab": {
          "base_uri": "https://localhost:8080/"
        },
        "id": "cEQ0kR9tE-JT",
        "outputId": "bd025687-40ec-4b96-ea20-2bdc46e8943c"
      },
      "execution_count": 4,
      "outputs": [
        {
          "output_type": "stream",
          "name": "stdout",
          "text": [
            "Mounted at /content/drive\n"
          ]
        }
      ]
    },
    {
      "cell_type": "code",
      "source": [
        "# import the necessary packages\n",
        "import requests\n",
        "import cv2\n",
        "import os\n",
        "\n",
        "# set your Microsoft Cognitive Services API key along with (1) the\n",
        "# maximum number of results for a given search and (2) the group size\n",
        "# for results (maximum of 50 per request)\n",
        "API_KEY = \"a797f30e2cf44df9a2c6bc9499dc6c6e\"\n",
        "PATH = '/content/drive/MyDrive/pokemon_dataset' ## 'drive/dataset/Pokemons/'\n",
        "MAX_RESULTS = 250\n",
        "GROUP_SIZE = 50\n",
        "\n",
        "if not os.path.isdir(PATH):\n",
        "    os.mkdir(PATH)\n",
        "\n",
        "# set the endpoint API URL\n",
        "URL = \"https://api.cognitive.microsoft.com/bing/v7.0/images/search\"\n",
        "\n",
        "# store the search term in a convenience variable then set the\n",
        "pokemons = []\n",
        "\n",
        "while True:\n",
        "    name = input(\"Enter pokemon Name: \").lower() # raw_input used in lower version\n",
        "    if not name:\n",
        "        break\n",
        "    pokemons.append(name)\n",
        "\n",
        "\n",
        "for term in pokemons:\n",
        "    # headers and search parameters\n",
        "    headers = {\"Ocp-Apim-Subscription-Key\" : API_KEY}\n",
        "    params = {\"q\": term, \"offset\": 0, \"count\": GROUP_SIZE}\n",
        "    \n",
        "    # make the search\n",
        "    print(\"[INFO] searching Bing API for '{}'\".format(term))\n",
        "    search = requests.get(URL, headers=headers, params=params)\n",
        "    search.raise_for_status()\n",
        "    \n",
        "    # grab the results from the search, including the total number of\n",
        "    # estimated results returned by the Bing API\n",
        "    results = search.json()\n",
        "    estNumResults = min(results[\"totalEstimatedMatches\"], MAX_RESULTS)\n",
        "    print(\"[INFO] {} total results for '{}'\".format(estNumResults,\n",
        "    \tterm))\n",
        "     \n",
        "    # initialize the total number of images downloaded thus far\n",
        "    total = 0\n",
        "    folder = PATH+term\n",
        "\n",
        "    if not os.path.isdir(folder):\n",
        "        os.mkdir(folder)\n",
        "        \n",
        "    # loop over the estimated number of results in `GROUP_SIZE` groups\n",
        "    for offset in range(0, estNumResults, GROUP_SIZE):\n",
        "        # update the search parameters using the current offset, then\n",
        "        # make the request to fetch the results\n",
        "        print(\"[INFO] making request for group {}-{} of {}...\".format(offset, offset + GROUP_SIZE, estNumResults))\n",
        "        params[\"offset\"] = offset\n",
        "        search = requests.get(URL, headers=headers, params=params)\n",
        "        search.raise_for_status()\n",
        "        results = search.json()\n",
        "        print(\"[INFO] saving images for group {}-{} of {}...\".format(offset, offset + GROUP_SIZE, estNumResults))\n",
        "        \n",
        "        # loop over the results\n",
        "        for v in results[\"value\"]:\n",
        "            # try to download the image\n",
        "            try:\n",
        "                # make a request to download the image\n",
        "                print(\"[INFO] fetching: {}\".format(v[\"contentUrl\"]))            \n",
        "                r = requests.get(v[\"contentUrl\"], timeout=30)\n",
        "                 \n",
        "                # build the path to the output image\n",
        "                ext = v[\"contentUrl\"][v[\"contentUrl\"].rfind(\".\"):]\n",
        "                img_type = v[\"encodingFormat\"]\n",
        "                # p = os.path.sep.join([args[\"output\"], \"{}{}\".format(str(total).zfill(8), ext)])\n",
        "                p = os.path.sep.join([folder, \"{}.{}\".format(str(total).zfill(6), img_type)])\n",
        "                # p = p.replace(\"\\\\\",\"/\")\n",
        "                \n",
        "                if str(img_type) != \"animatedgif\":\n",
        "                # write the image to disk\n",
        "                    f = open(p, \"wb\")\n",
        "                    f.write(r.content)\n",
        "                    f.close()\n",
        "                    total += 1\n",
        "                    \n",
        "                    # try to load the image from disk\n",
        "                    image = cv2.imread(p)\n",
        "        \n",
        "                    # if the image is `None` then we could not properly load the\n",
        "                    # image from disk (so it should be ignored)\n",
        "                    if image is None:\n",
        "                            print(\"[INFO-DEL] deleting: {}\".format(p))\n",
        "                            os.remove(p)\n",
        "                            continue\n",
        "     \n",
        "            # catch any errors that would not unable us to download the\n",
        "            # image\n",
        "            except Exception as e:\n",
        "                # check to see if our exception is in our list of\n",
        "                # exceptions to check for\n",
        "                print (\"[ERROR]: \", str(e))\n",
        "\n",
        "            \n",
        "    print (\"*\"*50)            \n",
        "    print (\"[END] Images Donwloaded for\", term)\n",
        "    print (\"*\"*50)\n",
        "    \n",
        "    \n"
      ],
      "metadata": {
        "id": "fkBEXZvUD8xw"
      },
      "execution_count": null,
      "outputs": []
    }
  ]
}